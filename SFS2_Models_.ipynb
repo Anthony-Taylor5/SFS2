{
  "nbformat": 4,
  "nbformat_minor": 0,
  "metadata": {
    "colab": {
      "provenance": [],
      "toc_visible": true,
      "gpuType": "T4"
    },
    "kernelspec": {
      "name": "python3",
      "display_name": "Python 3"
    },
    "language_info": {
      "name": "python"
    },
    "accelerator": "GPU"
  },
  "cells": [
    {
      "cell_type": "markdown",
      "source": [
        "Objective:\n",
        "Develop a machine learning model that predicts write energy for a PCM cell based on data patterns and\n",
        "resistance states.\n",
        "\n",
        "Methodology:\n",
        " Generate synthetic write patterns with varying data density (all-0s, all-1s, mixed).\n",
        " Assign energy values based on write transitions (e.g., 0→1 is more costly).\n",
        " Train a regression model (Linear Regression or XGBoost) to estimate write energy.\n",
        "\n",
        "Deliverables:\n",
        " Write energy prediction tool\n",
        " Error metrics (MAE, RMSE) and result visualizations\n",
        " Basic report or poster\n",
        "\n",
        "Complete by next week:\n",
        "  Step 1: Study energy characteristics of PCM write operations. Focus on how data transitions (0→1,\n",
        "  1→0) and resistance states affect energy. Review past research that models write energy for emerging\n",
        "  memory.\n",
        "\n",
        "  Problem Formulation: 1. Define write energy estimation as a supervised regression task. 2. Inputs: bit\n",
        "  pattern transitions, resistance states. 3. Output: predicted write energy (continuous value in nJ or pJ).\n",
        "\n",
        "\n",
        "  Step 2: Data Design:\n",
        "  Design Synthetic Data Patterns: Create 3 categories: All-0s, All-1s, Mixed patterns (random 0s and\n",
        "  1s).\n",
        "  \n",
        "  For each pattern, define: Previous state, New state, Transition count: number of 0→1, 1→0, 0→0, and\n",
        "  1→1 transitions.\n",
        "\n",
        "  Assign Energy Values: Use known principles: 0→1: High energy (e.g., 1.2 units), 1→0: Medium\n",
        "  energy (e.g., 0.8 units), No change: Low energy (~0.1 units)\n",
        "  Total write energy = weighted sum based on number of transitions.\n",
        "\n",
        "  Include Resistance State: 1. Simulate a resistance level per cell (e.g., float value between\n",
        "  1KΩ–100KΩ). 2. Add resistance as a feature: higher resistance may correlate with more energy.\n",
        "  Label Dataset: Each record includes: Pattern ID, resistance state, counts of transition types, total write energy (ground truth)"
      ],
      "metadata": {
        "id": "l9R0hnpwNz8W"
      }
    },
    {
      "cell_type": "code",
      "execution_count": null,
      "metadata": {
        "colab": {
          "base_uri": "https://localhost:8080/",
          "height": 447
        },
        "id": "ZeKnCNfDNj0M",
        "outputId": "ede1621d-7f0c-4f0e-d139-60f5c20c0dca"
      },
      "outputs": [
        {
          "output_type": "display_data",
          "data": {
            "text/plain": [
              "pattern_id                                                       4\n",
              "prev_category                                             all_ones\n",
              "new_category                                                 mixed\n",
              "resistance                                             6976.276809\n",
              "total_energy                                                  28.1\n",
              "prev_bits        1111111111111111111111111111111111111111111111...\n",
              "new_bits         0001011111010010110000110011110000011111111011...\n",
              "0_to_1                                                           0\n",
              "1_to_0                                                          31\n",
              "0_to_0                                                           0\n",
              "1_to_1                                                          33\n",
              "Name: 4, dtype: object"
            ],
            "text/html": [
              "<div>\n",
              "<style scoped>\n",
              "    .dataframe tbody tr th:only-of-type {\n",
              "        vertical-align: middle;\n",
              "    }\n",
              "\n",
              "    .dataframe tbody tr th {\n",
              "        vertical-align: top;\n",
              "    }\n",
              "\n",
              "    .dataframe thead th {\n",
              "        text-align: right;\n",
              "    }\n",
              "</style>\n",
              "<table border=\"1\" class=\"dataframe\">\n",
              "  <thead>\n",
              "    <tr style=\"text-align: right;\">\n",
              "      <th></th>\n",
              "      <th>4</th>\n",
              "    </tr>\n",
              "  </thead>\n",
              "  <tbody>\n",
              "    <tr>\n",
              "      <th>pattern_id</th>\n",
              "      <td>4</td>\n",
              "    </tr>\n",
              "    <tr>\n",
              "      <th>prev_category</th>\n",
              "      <td>all_ones</td>\n",
              "    </tr>\n",
              "    <tr>\n",
              "      <th>new_category</th>\n",
              "      <td>mixed</td>\n",
              "    </tr>\n",
              "    <tr>\n",
              "      <th>resistance</th>\n",
              "      <td>6976.276809</td>\n",
              "    </tr>\n",
              "    <tr>\n",
              "      <th>total_energy</th>\n",
              "      <td>28.1</td>\n",
              "    </tr>\n",
              "    <tr>\n",
              "      <th>prev_bits</th>\n",
              "      <td>1111111111111111111111111111111111111111111111...</td>\n",
              "    </tr>\n",
              "    <tr>\n",
              "      <th>new_bits</th>\n",
              "      <td>0001011111010010110000110011110000011111111011...</td>\n",
              "    </tr>\n",
              "    <tr>\n",
              "      <th>0_to_1</th>\n",
              "      <td>0</td>\n",
              "    </tr>\n",
              "    <tr>\n",
              "      <th>1_to_0</th>\n",
              "      <td>31</td>\n",
              "    </tr>\n",
              "    <tr>\n",
              "      <th>0_to_0</th>\n",
              "      <td>0</td>\n",
              "    </tr>\n",
              "    <tr>\n",
              "      <th>1_to_1</th>\n",
              "      <td>33</td>\n",
              "    </tr>\n",
              "  </tbody>\n",
              "</table>\n",
              "</div><br><label><b>dtype:</b> object</label>"
            ]
          },
          "metadata": {}
        },
        {
          "output_type": "display_data",
          "data": {
            "text/plain": [
              "'0001011111010010110000110011110000011111111011011110000010000011'"
            ],
            "application/vnd.google.colaboratory.intrinsic+json": {
              "type": "string"
            }
          },
          "metadata": {}
        }
      ],
      "source": [
        "import numpy as np\n",
        "import pandas as pd\n",
        "from pprint import pprint\n",
        "\n",
        "#check in:\n",
        "#what are the energy units in joules?\n",
        "\n",
        "# Energy costs\n",
        "ENERGY_COSTS = {\n",
        "    \"0to1\": 1.2, #1.2 units\n",
        "    \"1to0\": 0.8,\n",
        "    \"no_change\": 0.1\n",
        "    #0to 0 = 36pj\n",
        "    #0-1 =\n",
        "}\n",
        "\n",
        "# Parameters\n",
        "num_patterns = 50000 #num of examples\n",
        "bit_length = 64 # change to 512 if want whole memory line\n",
        "\n",
        "def generate_bit_pattern(category):\n",
        "    \"\"\"\n",
        "    create bit patterns using bit length and numpy\n",
        "    \"\"\"\n",
        "    if category == \"all_zeros\":\n",
        "        return np.zeros(bit_length, dtype=int)\n",
        "    elif category == \"all_ones\":\n",
        "        return np.ones(bit_length, dtype=int)\n",
        "    elif category == \"mixed\":\n",
        "        return np.random.randint(0, 2, size=bit_length)\n",
        "\n",
        "def count_transitions(prev, new):\n",
        "    t_0to1 = np.sum((prev == 0) & (new == 1))\n",
        "    t_1to0 = np.sum((prev == 1) & (new == 0))\n",
        "    t_0to0 = np.sum((prev == 0) & (new == 0))\n",
        "    t_1to1 = np.sum((prev == 1) & (new == 1))\n",
        "    return t_0to1, t_1to0, t_0to0, t_1to1\n",
        "\n",
        "def compute_write_energy(t_0to1, t_1to0, t_0to0, t_1to1):\n",
        "    \"\"\"\n",
        "    for each transition calculate the energy cost\n",
        "    \"\"\"\n",
        "    energy = (\n",
        "        t_0to1 * ENERGY_COSTS[\"0to1\"] +\n",
        "        t_1to0 * ENERGY_COSTS[\"1to0\"] +\n",
        "        (t_0to0 + t_1to1) * ENERGY_COSTS[\"no_change\"]\n",
        "    )\n",
        "    return energy\n",
        "\n",
        "# Data collection\n",
        "data = []\n",
        "\n",
        "for i in range(num_patterns):\n",
        "    category = np.random.choice([\"all_zeros\", \"all_ones\", \"mixed\"])\n",
        "    new_category = np.random.choice([\"all_zeros\", \"all_ones\", \"mixed\"])\n",
        "    prev_pattern = generate_bit_pattern(category)\n",
        "    new_pattern = generate_bit_pattern(new_category)  # simulate write to random pattern\n",
        "\n",
        "    # Count transitions\n",
        "    t_0to1, t_1to0, t_0to0, t_1to1 = count_transitions(prev_pattern, new_pattern)\n",
        "\n",
        "    # Simulate resistance between 1kΩ and 100kΩ\n",
        "    resistance = np.random.uniform(1e3, 1e5)     #1 with 3 0s a d 1 and 5 0s\n",
        "\n",
        "    # Compute write energy\n",
        "    total_energy = compute_write_energy(t_0to1, t_1to0, t_0to0, t_1to1)\n",
        "\n",
        "    # Add row\n",
        "    data.append({\n",
        "    \"pattern_id\": i,\n",
        "    \"prev_category\": category,\n",
        "    \"new_category\": new_category,\n",
        "    \"resistance\": resistance,\n",
        "    \"total_energy\": total_energy,\n",
        "    \"prev_bits\": ''.join(map(str, prev_pattern)),\n",
        "    \"new_bits\": ''.join(map(str, new_pattern)),\n",
        "    \"0_to_1\": t_0to1,\n",
        "    \"1_to_0\": t_1to0,\n",
        "    \"0_to_0\": t_0to0,\n",
        "    \"1_to_1\": t_1to1,\n",
        "\n",
        "    })\n",
        "\n",
        "\n",
        "# Create dataframe\n",
        "df = pd.DataFrame(data)\n",
        "#pprint(df.head)\n",
        "display(df.iloc[4]) # Shows the row at index 42)\n",
        "display(df.iloc[4][\"new_bits\"])"
      ]
    },
    {
      "cell_type": "markdown",
      "source": [
        "Step 3: Feature Engineering\n",
        "Prepare Feature Vectors for Inputs and Output.\n",
        "Normalize/Scale Features: Apply standard scaling (optional, especially for regression models like\n",
        "Linear Regression)."
      ],
      "metadata": {
        "id": "xUWjovV7mTzw"
      }
    },
    {
      "cell_type": "markdown",
      "source": [
        "## Collect data into tensors for our Linear NN:\n",
        "Goal: predict energy based on features like previous pattern, new pattern, resistence, and specific bit transition counts"
      ],
      "metadata": {
        "id": "hPh_E0DZoUCW"
      }
    },
    {
      "cell_type": "code",
      "source": [
        "int(df.iloc[4][\"new_bits\"], 2)"
      ],
      "metadata": {
        "colab": {
          "base_uri": "https://localhost:8080/"
        },
        "id": "9NGR-SxTuFXR",
        "outputId": "ff9250ed-ee8e-4fe5-9f5d-39e2ffd1603c"
      },
      "execution_count": null,
      "outputs": [
        {
          "output_type": "execute_result",
          "data": {
            "text/plain": [
              "1716649070982717571"
            ]
          },
          "metadata": {},
          "execution_count": 27
        }
      ]
    },
    {
      "cell_type": "code",
      "source": [
        "import torch\n",
        "input_features_categories = [\"resistance\", \"prev_bits\", \"new_bits\", \"0_to_1\", \"1_to_0\", \"0_to_0\", \"1_to_1\"]\n",
        "#consider these after evalutation metrics\n",
        "#include set and reset temp: which changes write capabilities, include bit write energy cost? or does ambient do this already, inlcude duration of the read write ratio how does this affect the data?\n",
        "label_categories = [\"total_energy\"]\n",
        "input_features = []\n",
        "labels = []\n",
        "\n",
        "for i in range(len(df)):\n",
        "  sample_features = []\n",
        "  for concept in input_features_categories:\n",
        "    concept_data = df.iloc[i][concept]\n",
        "    if type(concept_data) is str:\n",
        "      concept_data = int(concept_data)\n",
        "    sample_features.append(concept_data)\n",
        "\n",
        "  input_features.append(sample_features)\n",
        "\n",
        "  for concept in label_categories:\n",
        "    concept_data = df.iloc[i][concept]\n",
        "    labels.append(concept_data)\n",
        "\n",
        "input_features = torch.DoubleTensor(input_features)\n",
        "labels = torch.DoubleTensor(labels)\n"
      ],
      "metadata": {
        "id": "1U9Zg4QUmj3f"
      },
      "execution_count": null,
      "outputs": []
    },
    {
      "cell_type": "code",
      "source": [
        "print(input_features.shape) #shape: 1000 samples, 7 features\n",
        "print(labels.shape) #shape: 1000 labels"
      ],
      "metadata": {
        "colab": {
          "base_uri": "https://localhost:8080/"
        },
        "id": "HkQhy9Chs4NS",
        "outputId": "0adaa3d6-f61c-468c-fac7-401d7a7c1b3d"
      },
      "execution_count": null,
      "outputs": [
        {
          "output_type": "stream",
          "name": "stdout",
          "text": [
            "torch.Size([50000, 7])\n",
            "torch.Size([50000])\n"
          ]
        }
      ]
    },
    {
      "cell_type": "code",
      "source": [
        "print(input_features[0])"
      ],
      "metadata": {
        "colab": {
          "base_uri": "https://localhost:8080/"
        },
        "id": "BI9u9cnoEQPm",
        "outputId": "5303a1c9-8924-456f-f5b6-52cf6d1ad2eb"
      },
      "execution_count": null,
      "outputs": [
        {
          "output_type": "stream",
          "name": "stdout",
          "text": [
            "tensor([3.2704e+03, 1.0010e+60, 1.1111e+63, 3.3000e+01, 0.0000e+00, 0.0000e+00,\n",
            "        3.1000e+01], dtype=torch.float64)\n"
          ]
        }
      ]
    },
    {
      "cell_type": "code",
      "source": [
        "print(labels[0])"
      ],
      "metadata": {
        "colab": {
          "base_uri": "https://localhost:8080/"
        },
        "id": "FTTAw1d7D4nY",
        "outputId": "3d247edc-1c28-49f3-9cc0-11e239f84795"
      },
      "execution_count": null,
      "outputs": [
        {
          "output_type": "stream",
          "name": "stdout",
          "text": [
            "tensor(42.7000, dtype=torch.float64)\n"
          ]
        }
      ]
    },
    {
      "cell_type": "markdown",
      "source": [
        "# Create Linear NN model and XGBoost Model"
      ],
      "metadata": {
        "id": "Blm6s-0Fuj0i"
      }
    },
    {
      "cell_type": "markdown",
      "source": [
        "## Dependencies for NN"
      ],
      "metadata": {
        "id": "9k9LyQslutUF"
      }
    },
    {
      "cell_type": "code",
      "source": [
        "import torch\n",
        "import torch.nn as nn\n",
        "import numpy as np\n",
        "import random\n",
        "\n",
        "def set_random_seed(seed=5):\n",
        "    random.seed(seed)\n",
        "    np.random.seed(seed)\n",
        "    torch.manual_seed(seed)\n",
        "    torch.cuda.manual_seed_all(seed)\n",
        "    torch.backends.cudnn.deterministic = True\n",
        "    torch.backends.cudnn.benchmark = False\n",
        "\n",
        "set_random_seed(5)\n",
        "if torch.cuda.is_available():\n",
        "    device = \"cuda\"\n",
        "else:\n",
        "    device = \"cpu\"\n",
        "print(device)"
      ],
      "metadata": {
        "id": "A22ePbzJusGL",
        "colab": {
          "base_uri": "https://localhost:8080/"
        },
        "outputId": "e540c8e5-542c-4252-fd23-c69e5714251b"
      },
      "execution_count": null,
      "outputs": [
        {
          "output_type": "stream",
          "name": "stdout",
          "text": [
            "cuda\n"
          ]
        }
      ]
    },
    {
      "cell_type": "markdown",
      "source": [
        "### Split Data Set"
      ],
      "metadata": {
        "id": "HnIIZeMk5674"
      }
    },
    {
      "cell_type": "code",
      "source": [
        "import torch\n",
        "from torch.utils.data import TensorDataset, DataLoader\n",
        "from sklearn.model_selection import train_test_split\n",
        "\n",
        "X= input_features.to(device)\n",
        "y= labels.to(device)\n",
        "\n",
        "\n",
        "#Normalize the inputs:\n",
        "# Z-score normalization: (x - mean) / std\n",
        "\n",
        "\n",
        "mean_x = torch.mean(X, dim=0, keepdim=True).to(device)\n",
        "std_x = torch.std(X, dim=0, keepdim=True).to(device)\n",
        "# Add small epsilon to avoid division by zero\n",
        "std_x = torch.where(std_x == 0, torch.ones_like(std_x) * 1e-8, std_x).to(device)\n",
        "\n",
        "normalized_X = ((X - mean_x) / std_x).to(device)\n",
        "\n",
        "mean_y = torch.mean(y).to(device)\n",
        "std_y = torch.std(y).to(device)\n",
        "std_y = torch.where(std_y == 0, torch.ones_like(std_y) * 1e-8, std_y).to(device)\n",
        "normalized_y = ((y - mean_y) / std_y).to(device)\n",
        "\n",
        "\n",
        "\n",
        "# Convert to numpy for sklearn split, then back to tensors (ensure double precision)\n",
        "X_np = normalized_X.detach().cpu().double().numpy()\n",
        "y_np = normalized_y.detach().cpu().double().numpy()\n",
        "\n",
        "# First split: 70% train, 30% temp\n",
        "X_train, X_temp, y_train, y_temp = train_test_split(\n",
        "    X_np, y_np, test_size=0.3, random_state=5\n",
        ")\n",
        "\n",
        "# Second split: 15% valid, 15% test (from the 30% temp)\n",
        "X_valid, X_test, y_valid, y_test = train_test_split(\n",
        "    X_temp, y_temp, test_size=0.5, random_state=5\n",
        ")\n",
        "\n",
        "# Convert back to tensors (ensure double precision)\n",
        "X_train = torch.tensor(X_train, dtype=torch.float64)\n",
        "y_train = torch.tensor(y_train, dtype=torch.float64)\n",
        "X_valid = torch.tensor(X_valid, dtype=torch.float64)\n",
        "y_valid = torch.tensor(y_valid, dtype=torch.float64)\n",
        "X_test = torch.tensor(X_test, dtype=torch.float64)\n",
        "y_test = torch.tensor(y_test, dtype=torch.float64)\n",
        "\n",
        "# Create TensorDatasets\n",
        "train_dataset = TensorDataset(X_train, y_train)\n",
        "valid_dataset = TensorDataset(X_valid, y_valid)\n",
        "test_dataset = TensorDataset(X_test, y_test)\n",
        "\n",
        "# Create DataLoaders with shuffling\n",
        "train_loader = DataLoader(train_dataset, batch_size=32, shuffle=True)\n",
        "valid_loader = DataLoader(valid_dataset, batch_size=32, shuffle=False)\n",
        "test_loader = DataLoader(test_dataset, batch_size=32, shuffle=False)\n",
        "\n",
        "\n",
        "\n",
        "\n",
        "# Print dataset sizes\n",
        "print(f\"Training batches: {len(train_loader)}\")\n",
        "print(f\"Validation batches: {len(valid_loader)}\")\n",
        "print(f\"Test batches: {len(test_loader)}\")\n",
        "\n",
        "print(f\"Training samples: {len(train_loader.dataset)}\")\n",
        "print(f\"Validation samples: {len(valid_loader.dataset)}\")\n",
        "print(f\"Test samples: {len(test_loader.dataset)}\")\n",
        "\n",
        "# Example of iterating through training data\n",
        "for batch_idx, (data, target) in enumerate(train_loader):\n",
        "    print(f\"Batch {batch_idx}: data shape {data.shape}, target shape {target.shape}\")\n",
        "    if batch_idx == 2:  # Just show first 3 batches\n",
        "        break"
      ],
      "metadata": {
        "colab": {
          "base_uri": "https://localhost:8080/"
        },
        "id": "VcFOKQnS5_Bp",
        "outputId": "e83bb88b-ef44-4c71-8978-2095c442562a"
      },
      "execution_count": null,
      "outputs": [
        {
          "output_type": "stream",
          "name": "stdout",
          "text": [
            "Training batches: 1094\n",
            "Validation batches: 235\n",
            "Test batches: 235\n",
            "Training samples: 35000\n",
            "Validation samples: 7500\n",
            "Test samples: 7500\n",
            "Batch 0: data shape torch.Size([32, 7]), target shape torch.Size([32])\n",
            "Batch 1: data shape torch.Size([32, 7]), target shape torch.Size([32])\n",
            "Batch 2: data shape torch.Size([32, 7]), target shape torch.Size([32])\n"
          ]
        }
      ]
    },
    {
      "cell_type": "markdown",
      "source": [
        "## Neural Network:"
      ],
      "metadata": {
        "id": "4U4RjiAKuopW"
      }
    },
    {
      "cell_type": "markdown",
      "source": [
        "### Define Model"
      ],
      "metadata": {
        "id": "KX6WOPVeAKzG"
      }
    },
    {
      "cell_type": "code",
      "source": [
        "import torch\n",
        "import torch.nn as nn\n",
        "import torch.optim as optim\n",
        "from torch.utils.data import DataLoader, TensorDataset\n",
        "\n",
        "class NonLinearNN(nn.Module):\n",
        "    def __init__(self, input_size=7, hidden_size=64, output_size=1):\n",
        "        super(NonLinearNN, self).__init__()\n",
        "        self.fc1 = nn.Linear(input_size, hidden_size)\n",
        "        self.fc2 = nn.Linear(hidden_size, hidden_size)\n",
        "        self.fc3 = nn.Linear(hidden_size, output_size)\n",
        "        self.relu = nn.ReLU()\n",
        "        self.dropout = nn.Dropout(0.2)\n",
        "\n",
        "    def forward(self, x):\n",
        "        x = self.relu(self.fc1(x))\n",
        "        x = self.dropout(x)\n",
        "        x = self.relu(self.fc2(x))\n",
        "        x = self.dropout(x)\n",
        "        x = self.fc3(x)\n",
        "        return x\n"
      ],
      "metadata": {
        "id": "1eUTj1h7uioI"
      },
      "execution_count": null,
      "outputs": []
    },
    {
      "cell_type": "code",
      "source": [
        "print(f\"mean_y: {mean_y.item():.4f}, std_y: {std_y.item():.4f}\")"
      ],
      "metadata": {
        "colab": {
          "base_uri": "https://localhost:8080/"
        },
        "id": "uMhpdxcPi_fq",
        "outputId": "e73b5992-0e4d-4490-eb3f-cbde6461da99"
      },
      "execution_count": null,
      "outputs": [
        {
          "output_type": "stream",
          "name": "stdout",
          "text": [
            "mean_y: 35.3157, std_y: 20.7833\n"
          ]
        }
      ]
    },
    {
      "cell_type": "markdown",
      "source": [
        "### Training Loop"
      ],
      "metadata": {
        "id": "txv5sSqDCkeq"
      }
    },
    {
      "cell_type": "code",
      "source": [
        "\n",
        "\n",
        "model = NonLinearNN().double().to(device)\n",
        "criterion = nn.MSELoss()\n",
        "epochs=100\n",
        "lr=0.001\n",
        "optimizer = optim.Adam(model.parameters(), lr=lr)\n",
        "train_losses = []\n",
        "val_losses = []\n",
        "\n",
        "# Training loop\n",
        "for epoch in range(epochs):\n",
        "    model.train()\n",
        "    total_loss = 0\n",
        "    for batch_X, batch_y in train_loader:\n",
        "        # Forward pass\n",
        "        outputs = model(batch_X.to(device))\n",
        "        loss = criterion(outputs.squeeze(), batch_y.to(device))\n",
        "\n",
        "        # Backward pass\n",
        "        optimizer.zero_grad()\n",
        "        loss.backward()\n",
        "        optimizer.step()\n",
        "\n",
        "        total_loss += loss.item() * images.size(0)\n",
        "\n",
        "    train_losses.append(total_loss)\n",
        "\n",
        "\n",
        "\n",
        "\n",
        "    #Validation Set\n",
        "    model.eval()\n",
        "    val_total_loss = 0\n",
        "    with torch.no_grad():\n",
        "        for val_batch_X, val_batch_y in valid_loader:\n",
        "            val_batch_X = val_batch_X.to(device)\n",
        "            val_batch_y = val_batch_y.to(device)\n",
        "\n",
        "            outputs = model(val_batch_X).squeeze()\n",
        "            loss = criterion(outputs, val_batch_y)\n",
        "            val_total_loss += loss.item()\n",
        "\n",
        "    val_loss = val_total_loss / len(valid_loader)\n",
        "    val_losses.append(val_loss)\n",
        "\n",
        "    #Print Loss\n",
        "    if (epoch + 1) % 10 == 0:\n",
        "      print(f'Epoch [{epoch+1}/{epochs}], Training Loss: {avg_loss:.4f}, Validation Loss: {val_loss:.4f}')\n",
        "      print()\n"
      ],
      "metadata": {
        "colab": {
          "base_uri": "https://localhost:8080/"
        },
        "id": "REY3XDzeCkDY",
        "outputId": "c67bdd72-ecd9-4577-f5b1-2ace9a3ec4ec"
      },
      "execution_count": null,
      "outputs": [
        {
          "output_type": "stream",
          "name": "stdout",
          "text": [
            "Epoch [10/100], Training Loss: 0.0130, Validation Loss: 0.0136\n",
            "\n",
            "Epoch [20/100], Training Loss: 0.0114, Validation Loss: 0.0111\n",
            "\n",
            "Epoch [30/100], Training Loss: 0.0110, Validation Loss: 0.0125\n",
            "\n",
            "Epoch [40/100], Training Loss: 0.0110, Validation Loss: 0.0110\n",
            "\n",
            "Epoch [50/100], Training Loss: 0.0107, Validation Loss: 0.0100\n",
            "\n",
            "Epoch [60/100], Training Loss: 0.0106, Validation Loss: 0.0067\n",
            "\n",
            "Epoch [70/100], Training Loss: 0.0103, Validation Loss: 0.0039\n",
            "\n",
            "Epoch [80/100], Training Loss: 0.0107, Validation Loss: 0.0115\n",
            "\n",
            "Epoch [90/100], Training Loss: 0.0104, Validation Loss: 0.0040\n",
            "\n",
            "Epoch [100/100], Training Loss: 0.0102, Validation Loss: 0.0108\n",
            "\n"
          ]
        }
      ]
    },
    {
      "cell_type": "markdown",
      "source": [
        "### Test Set"
      ],
      "metadata": {
        "id": "D2ZO-2XxqMYE"
      }
    },
    {
      "cell_type": "code",
      "source": [
        "model.eval()  # Set model to eval mode\n",
        "test_total_loss = 0\n",
        "all_preds = []  # predicted outputs\n",
        "all_targets = []  # true labels\n",
        "\n",
        "\n",
        "with torch.no_grad():\n",
        "    for test_batch_X, test_batch_y in test_loader:\n",
        "        test_batch_X = test_batch_X.to(device)\n",
        "        test_batch_y = test_batch_y.to(device)\n",
        "\n",
        "        outputs = model(test_batch_X).squeeze()\n",
        "        loss = criterion(outputs, test_batch_y)\n",
        "        test_total_loss += loss.item()\n",
        "        all_preds.append(outputs.cpu())\n",
        "        all_targets.append(test_batch_y.cpu())\n",
        "\n",
        "test_loss = test_total_loss / len(test_loader)\n",
        "print(f'Average Test Loss: {test_loss:.4f}')\n",
        "all_preds = torch.cat(all_preds).numpy()\n",
        "all_targets = torch.cat(all_targets).numpy()\n"
      ],
      "metadata": {
        "colab": {
          "base_uri": "https://localhost:8080/"
        },
        "id": "qB96rYvuqL_M",
        "outputId": "0eb300be-7e4a-4a12-b265-6f25f4127883"
      },
      "execution_count": null,
      "outputs": [
        {
          "output_type": "stream",
          "name": "stdout",
          "text": [
            "Average Test Loss: 0.0105\n"
          ]
        }
      ]
    },
    {
      "cell_type": "markdown",
      "source": [
        "### Evaluate Predictions"
      ],
      "metadata": {
        "id": "5xz-JswCBFTH"
      }
    },
    {
      "cell_type": "code",
      "source": [
        "\n",
        "# Show predictions\n",
        "model.eval()\n",
        "with torch.no_grad():\n",
        "    predictions_normalized = model(normalized_X)\n",
        "\n",
        "    print(f\"Actual labels: {y[:15]} \\n\")\n",
        "    predictions_denormalized = (predictions_normalized * std_y) + mean_y\n",
        "    print(f\"Sample predictions: {predictions_denormalized.squeeze()[:15]} \\n\")\n",
        "\n"
      ],
      "metadata": {
        "colab": {
          "base_uri": "https://localhost:8080/"
        },
        "id": "2giMXw8aMybK",
        "outputId": "9207a8d5-ea21-4ad3-a354-220c5cf436f8"
      },
      "execution_count": null,
      "outputs": [
        {
          "output_type": "stream",
          "name": "stdout",
          "text": [
            "Actual labels: tensor([42.7000, 35.8000, 39.4000, 50.4000, 28.1000, 40.6000, 76.8000, 47.1000,\n",
            "        76.8000, 31.1000, 36.1000, 28.1000, 76.8000,  6.4000, 32.3000],\n",
            "       device='cuda:0', dtype=torch.float64) \n",
            "\n",
            "Sample predictions: tensor([41.8258, 35.2063, 38.9237, 47.7193, 28.3389, 40.1372, 72.3183, 45.5751,\n",
            "        72.3747, 31.2329, 36.1359, 28.3990, 72.3427,  9.3539, 31.7405],\n",
            "       device='cuda:0', dtype=torch.float64) \n",
            "\n"
          ]
        }
      ]
    },
    {
      "cell_type": "markdown",
      "source": [
        "### Accuracy Metrics"
      ],
      "metadata": {
        "id": "oAajhQDkqmbm"
      }
    },
    {
      "cell_type": "code",
      "source": [
        "from sklearn.metrics import f1_score, mean_squared_error, mean_absolute_error, r2_score, accuracy_score\n",
        "\n",
        "# For regression\n",
        "mse = mean_squared_error(all_targets, all_preds)  # RMSE = sqrt(MSE)\n",
        "rmse = mse ** 0.5\n",
        "mae = mean_absolute_error(all_targets, all_preds)\n",
        "r2 = r2_score(all_targets, all_preds)\n",
        "\n",
        "print(f\"RMSE: {rmse:.4f}, MAE: {mae:.4f}, R^2: {r2:.4f}\")\n",
        "\n",
        "# # For classification (if applicable)\n",
        "# # Convert continuous outputs to predicted classes first, e.g. via threshold or argmax\n",
        "# pred_classes = (all_preds > 0.5).astype(int)  # example thresholding for binary\n",
        "# f1 = f1_score(all_targets, pred_classes)\n",
        "# accuracy = accuracy_score(all_targets, pred_classes)\n",
        "\n",
        "# print(f\"F1 Score: {f1:.4f}, Accuracy: {accuracy:.4f}\")\n"
      ],
      "metadata": {
        "colab": {
          "base_uri": "https://localhost:8080/"
        },
        "id": "JqPO_wnUqo7Q",
        "outputId": "11f981e1-bca5-481c-d19b-fa8181c90652"
      },
      "execution_count": null,
      "outputs": [
        {
          "output_type": "stream",
          "name": "stdout",
          "text": [
            "RMSE: 0.1023, MAE: 0.0742, R^2: 0.9894\n"
          ]
        }
      ]
    },
    {
      "cell_type": "markdown",
      "source": [
        "## XGBoost"
      ],
      "metadata": {
        "id": "LKhzwMy0qqrW"
      }
    },
    {
      "cell_type": "markdown",
      "source": [
        "### XGBoost dependencies"
      ],
      "metadata": {
        "id": "ATo8QrIgsXZc"
      }
    },
    {
      "cell_type": "code",
      "source": [
        "!pip install xgboost\n"
      ],
      "metadata": {
        "colab": {
          "base_uri": "https://localhost:8080/"
        },
        "id": "VS-c1euTqqMg",
        "outputId": "95a58fef-96ff-4f4a-b459-1127447b6b5f"
      },
      "execution_count": null,
      "outputs": [
        {
          "output_type": "stream",
          "name": "stdout",
          "text": [
            "Requirement already satisfied: xgboost in /usr/local/lib/python3.11/dist-packages (2.1.4)\n",
            "Requirement already satisfied: numpy in /usr/local/lib/python3.11/dist-packages (from xgboost) (2.0.2)\n",
            "Requirement already satisfied: nvidia-nccl-cu12 in /usr/local/lib/python3.11/dist-packages (from xgboost) (2.21.5)\n",
            "Requirement already satisfied: scipy in /usr/local/lib/python3.11/dist-packages (from xgboost) (1.15.3)\n"
          ]
        }
      ]
    },
    {
      "cell_type": "code",
      "source": [
        "import xgboost as xgb\n",
        "from sklearn.model_selection import train_test_split\n",
        "\n",
        "# Ensure all tensors are detached from the computation graph and moved to CPU\n",
        "X_train_np = X_train.detach().cpu().numpy()\n",
        "y_train_np = y_train.detach().cpu().numpy()\n",
        "\n",
        "X_valid_np = X_valid.detach().cpu().numpy()\n",
        "y_valid_np = y_valid.detach().cpu().numpy()\n",
        "\n",
        "X_test_np = X_test.detach().cpu().numpy()\n",
        "y_test_np = y_test.detach().cpu().numpy()\n",
        "\n",
        "# Create DMatrix objects for XGBoost\n",
        "dtrain = xgb.DMatrix(X_train_np, label=y_train_np)\n",
        "dvalid = xgb.DMatrix(X_valid_np, label=y_valid_np)\n",
        "dtest  = xgb.DMatrix(X_test_np,  label=y_test_np)\n"
      ],
      "metadata": {
        "id": "GqIhxb-UseIp"
      },
      "execution_count": null,
      "outputs": []
    },
    {
      "cell_type": "markdown",
      "source": [
        "### Define Model"
      ],
      "metadata": {
        "id": "solng3nyuYH7"
      }
    },
    {
      "cell_type": "code",
      "source": [
        "\n",
        "params = {\n",
        "    'objective': 'reg:squarederror',  # regression task\n",
        "    'eval_metric': 'rmse',             # evaluation metric\n",
        "    'max_depth': 6,\n",
        "    'eta': 0.1,                       # learning rate\n",
        "    'subsample': 0.8,\n",
        "    'colsample_bytree': 0.8,\n",
        "    'seed': 5\n",
        "}\n",
        "num_round = 100\n",
        "bst = xgb.train(params, dtrain, num_boost_round=num_round, evals=[(dtest, 'eval'), (dvalid, 'validation')], early_stopping_rounds=10, verbose_eval=10)\n",
        "preds = bst.predict(dtest)\n"
      ],
      "metadata": {
        "colab": {
          "base_uri": "https://localhost:8080/"
        },
        "id": "yzmUwxuLs7mV",
        "outputId": "2f4cd438-9228-44cb-fe30-aac73e7cd934"
      },
      "execution_count": null,
      "outputs": [
        {
          "output_type": "stream",
          "name": "stdout",
          "text": [
            "[0]\teval-rmse:0.89678\tvalidation-rmse:0.91228\n",
            "[10]\teval-rmse:0.31938\tvalidation-rmse:0.32471\n",
            "[20]\teval-rmse:0.11622\tvalidation-rmse:0.11844\n",
            "[30]\teval-rmse:0.04624\tvalidation-rmse:0.04738\n",
            "[40]\teval-rmse:0.02170\tvalidation-rmse:0.02172\n",
            "[50]\teval-rmse:0.01376\tvalidation-rmse:0.01284\n",
            "[60]\teval-rmse:0.01097\tvalidation-rmse:0.00890\n",
            "[70]\teval-rmse:0.00982\tvalidation-rmse:0.00730\n",
            "[80]\teval-rmse:0.00918\tvalidation-rmse:0.00635\n",
            "[90]\teval-rmse:0.00875\tvalidation-rmse:0.00565\n",
            "[99]\teval-rmse:0.00847\tvalidation-rmse:0.00523\n"
          ]
        }
      ]
    },
    {
      "cell_type": "markdown",
      "source": [
        "### Evaluate XGBoost"
      ],
      "metadata": {
        "id": "-iXMINnZuPoX"
      }
    },
    {
      "cell_type": "code",
      "source": [
        "std_y_np = std_y.detach().cpu().numpy()\n",
        "mean_y_np =  mean_y.detach().cpu().numpy()\n",
        "y_denormalized = (y_test_np * std_y_np) + mean_y_np\n",
        "preds_denormalized = (preds * std_y_np) + mean_y_np\n",
        "\n",
        "print(f\"Actual labels: {y_denormalized[:15]} \\n\")\n",
        "print(f\"Sample predictions: {preds_denormalized[:15]} \\n\")"
      ],
      "metadata": {
        "colab": {
          "base_uri": "https://localhost:8080/"
        },
        "id": "CsHrkVqjtDU3",
        "outputId": "a4eb7355-462e-4b51-f50a-c77d4a25681b"
      },
      "execution_count": null,
      "outputs": [
        {
          "output_type": "stream",
          "name": "stdout",
          "text": [
            "Actual labels: [ 6.4  6.4 27.4  6.4  6.4  6.4 76.8 41.1  6.4 76.8  6.4 37.5 29.5  6.4\n",
            " 33.3] \n",
            "\n",
            "Sample predictions: [ 6.40010737  6.40247839 27.40186395  6.40247839  6.40010737  6.40247839\n",
            " 76.79557217 40.7338034   6.40247839 76.79557217  6.40010737 37.26915944\n",
            " 29.50473786  6.40010737 33.28894151] \n",
            "\n"
          ]
        }
      ]
    },
    {
      "cell_type": "markdown",
      "source": [
        "### Accuracy Metrics"
      ],
      "metadata": {
        "id": "rVoxdFQguURD"
      }
    },
    {
      "cell_type": "code",
      "source": [
        "from sklearn.metrics import f1_score, mean_squared_error, mean_absolute_error, r2_score, accuracy_score\n",
        "\n",
        "# For regression\n",
        "mse = mean_squared_error(y_test, preds)  # RMSE = sqrt(MSE)\n",
        "rmse = mse ** 0.5\n",
        "mae = mean_absolute_error(y_test, preds)\n",
        "r2 = r2_score(y_test, preds)\n",
        "\n",
        "print(f\"RMSE: {rmse:.4f}, MAE: {mae:.4f}, R^2: {r2:.4f}\")\n"
      ],
      "metadata": {
        "colab": {
          "base_uri": "https://localhost:8080/"
        },
        "id": "qRQ2EyX_s-vy",
        "outputId": "76533f6e-9a39-4cbb-ec80-14d6071cef22"
      },
      "execution_count": null,
      "outputs": [
        {
          "output_type": "stream",
          "name": "stdout",
          "text": [
            "RMSE: 0.0085, MAE: 0.0016, R^2: 0.9999\n"
          ]
        }
      ]
    },
    {
      "cell_type": "markdown",
      "source": [
        "# Comparison"
      ],
      "metadata": {
        "id": "ZNTWbYG60V_q"
      }
    },
    {
      "cell_type": "markdown",
      "source": [
        "After 10,000 samples:\n",
        "\n",
        "XGBoost: RMSE: 0.0068, MAE: 0.0021, R^2: 1.0000\n",
        "\n",
        "Neural Network: RMSE: 0.0485, MAE: 0.0317, R^2: 0.9977"
      ],
      "metadata": {
        "id": "pP_Hh3Sx0YdG"
      }
    },
    {
      "cell_type": "markdown",
      "source": [
        "Create graphs, increase # of samples, keep results of 10,000 and then try the 50,000, apply real data"
      ],
      "metadata": {
        "id": "iZMeFiVutNee"
      }
    },
    {
      "cell_type": "markdown",
      "source": [
        "Figure 4: Predicted vs Actual Energy Scatter Plots\n",
        "python\n",
        "Copy\n",
        "Edit\n"
      ],
      "metadata": {
        "id": "k3vATD0npILk"
      }
    },
    {
      "cell_type": "code",
      "source": [
        "import matplotlib.pyplot as plt\n",
        "\n",
        "# --- For Neural Network ---\n",
        "plt.figure(figsize=(12, 5))\n",
        "\n",
        "plt.subplot(1, 2, 1)\n",
        "plt.scatter(all_targets, all_preds, alpha=0.6, color='royalblue')\n",
        "plt.plot([min(all_targets), max(all_targets)],\n",
        "         [min(all_targets), max(all_targets)],\n",
        "         color='red', linestyle='--', linewidth=1)\n",
        "plt.title('Neural Network\\nPredicted vs Actual Energy')\n",
        "plt.xlabel('Actual Energy (μJ)')\n",
        "plt.ylabel('Predicted Energy (μJ)')\n",
        "plt.grid(True)\n",
        "\n",
        "# --- For XGBoost ---\n",
        "plt.subplot(1, 2, 2)\n",
        "plt.scatter(y_denormalized, preds_denormalized, alpha=0.6, color='forestgreen')\n",
        "plt.plot([min(y_denormalized), max(y_denormalized)],\n",
        "         [min(y_denormalized), max(y_denormalized)],\n",
        "         color='red', linestyle='--', linewidth=1)\n",
        "plt.title('XGBoost\\nPredicted vs Actual Energy')\n",
        "plt.xlabel('Actual Energy (μJ)')\n",
        "plt.ylabel('Predicted Energy (μJ)')\n",
        "plt.grid(True)\n",
        "\n",
        "plt.tight_layout()\n",
        "plt.savefig(\"nn_xgb_scatter.png\", dpi=300)\n",
        "plt.show()\n"
      ],
      "metadata": {
        "id": "IJxqpWpppHcu",
        "colab": {
          "base_uri": "https://localhost:8080/",
          "height": 506
        },
        "outputId": "7e4a85a2-e462-4c05-8c4f-d21c0cb49932"
      },
      "execution_count": null,
      "outputs": [
        {
          "output_type": "display_data",
          "data": {
            "text/plain": [
              "<Figure size 1200x500 with 2 Axes>"
            ],
            "image/png": "[encoded data removed]"
          },
          "metadata": {}
        }
      ]
    },
    {
      "cell_type": "markdown",
      "source": [
        "Figure 5: Neural Network Loss Curve\n",
        "To track loss during training, you’ll need to store training and validation loss per epoch. Update your training loop first like this:"
      ],
      "metadata": {
        "id": "3FqDZiqMpLGV"
      }
    },
    {
      "cell_type": "code",
      "source": [
        "plt.figure(figsize=(8, 5))\n",
        "plt.plot(train_losses, label='Training Loss', color='blue')\n",
        "plt.plot(val_losses, label='Validation Loss', color='orange')\n",
        "plt.xlabel('Epoch')\n",
        "plt.ylabel('MSE Loss')\n",
        "plt.title('Neural Network Training & Validation Loss')\n",
        "plt.legend()\n",
        "plt.grid(True)\n",
        "plt.tight_layout()\n",
        "plt.savefig(\"nn_loss_curve.png\", dpi=300)\n",
        "plt.show()\n"
      ],
      "metadata": {
        "id": "qSP_AJW6pSeJ",
        "colab": {
          "base_uri": "https://localhost:8080/",
          "height": 507
        },
        "outputId": "0a825449-9e26-4499-e923-5c5861b8c3de"
      },
      "execution_count": null,
      "outputs": [
        {
          "output_type": "display_data",
          "data": {
            "text/plain": [
              "<Figure size 800x500 with 1 Axes>"
            ],
            "image/png": "[encoded data removed]"
          },
          "metadata": {}
        }
      ]
    },
    {
      "cell_type": "markdown",
      "source": [
        "## Saving and Loading the Model States:"
      ],
      "metadata": {
        "id": "rDxd2xa_sWf6"
      }
    },
    {
      "cell_type": "code",
      "source": [
        "# import torch\n",
        "\n",
        "# # Initialize your model\n",
        "# model = NonLinearNN(input_size=7, hidden_size=64, output_size=1)\n",
        "\n",
        "# # --- Save model state ---\n",
        "# torch.save(model.state_dict(), 'nonlinear_nn_weights.pth')\n",
        "# print(\"Model state saved to nonlinear_nn_weights.pth\")\n"
      ],
      "metadata": {
        "id": "i7gHc5BAsZuO"
      },
      "execution_count": null,
      "outputs": []
    },
    {
      "cell_type": "code",
      "source": [
        "\n",
        "# # --- Load model state ---\n",
        "# # Make sure to create a new instance of the model with the same parameters\n",
        "# model_loaded = NonLinearNN(input_size=7, hidden_size=64, output_size=1)\n",
        "# model_loaded.load_state_dict(torch.load('nonlinear_nn_weights.pth'))\n",
        "# model_loaded.eval()  # Set to eval mode if you're doing inference\n",
        "# print(\"Model state loaded successfully\")\n"
      ],
      "metadata": {
        "id": "6-XyZ8V4sdgo"
      },
      "execution_count": null,
      "outputs": []
    },
    {
      "cell_type": "code",
      "source": [
        "# import xgboost as xgb\n",
        "\n",
        "# # --- Save the model ---\n",
        "# bst.save_model('xgb_model.json')\n",
        "# print(\"XGBoost model saved to xgb_model.json\")\n",
        "\n"
      ],
      "metadata": {
        "id": "Yc0tz5Qms-vs"
      },
      "execution_count": null,
      "outputs": []
    },
    {
      "cell_type": "code",
      "source": [
        "\n",
        "# # --- Load the model ---\n",
        "# bst_loaded = xgb.Booster()\n",
        "# bst_loaded.load_model('xgb_model.json')\n",
        "# print(\"XGBoost model loaded successfully\")\n",
        "\n",
        "# # Use loaded model to predict\n",
        "# preds_loaded = bst_loaded.predict(dtest)"
      ],
      "metadata": {
        "id": "V-MMUQtQtAVv"
      },
      "execution_count": null,
      "outputs": []
    }
  ]
}